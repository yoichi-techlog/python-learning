{
  "nbformat": 4,
  "nbformat_minor": 0,
  "metadata": {
    "colab": {
      "provenance": [],
      "authorship_tag": "ABX9TyNHbTfUTFh9vdiIcadThN/O",
      "include_colab_link": true
    },
    "kernelspec": {
      "name": "python3",
      "display_name": "Python 3"
    },
    "language_info": {
      "name": "python"
    }
  },
  "cells": [
    {
      "cell_type": "markdown",
      "metadata": {
        "id": "view-in-github",
        "colab_type": "text"
      },
      "source": [
        "<a href=\"https://colab.research.google.com/github/yoichi-techlog/python-learning/blob/main/2025_08_16_python_exercises.ipynb\" target=\"_parent\"><img src=\"https://colab.research.google.com/assets/colab-badge.svg\" alt=\"Open In Colab\"/></a>"
      ]
    },
    {
      "cell_type": "code",
      "execution_count": null,
      "metadata": {
        "id": "3lImHrp1tzxi"
      },
      "outputs": [],
      "source": [
        "# 問題：count_not_equal_to_threshold(data, threshold)\n",
        "# 与えられた辞書 data において、各グループの中で\n",
        "# threshold と等しくない値の個数を計算して辞書で返す関数を作ってください。\n",
        "# 条件：\n",
        "# - リストが空の場合は None を返すこと\n",
        "# - 整数・小数混在も可\n",
        "# - threshold は整数または小数\n",
        "\n",
        "# 実行例\n",
        "data = {\n",
        "    \"A\": [80, 75, 90, 85, 70],\n",
        "    \"B\": [60, 65, 70, 75],\n",
        "    \"C\": [100, 95, 90, 85, 80, 75],\n",
        "    \"D\": [],         # 要素なし\n",
        "    \"E\": [88.5, 88.7, 88.1, 85]\n",
        "}\n",
        "threshold = 85\n",
        "# 期待される出力例（参考値）:\n",
        "# {'A': 4, 'B': 4, 'C': 5, 'D': None, 'E': 3}\n",
        "\n",
        "# 解答\n",
        "def count_not_equal_to_threshold(data, threshold):\n",
        "    result = {}\n",
        "    for group, scores in data.items():\n",
        "        if not scores:\n",
        "            result[group] = None\n",
        "        else:\n",
        "            result[group] = sum(1 for s in scores if s != threshold)\n",
        "    return result"
      ]
    },
    {
      "cell_type": "code",
      "source": [
        "# 問題：count_in_range(data, low, high)\n",
        "# 与えられた辞書 data において、各グループの中で\n",
        "# 値が low 以上 high 以下の範囲に含まれる要素数を計算して辞書で返す関数を作ってください。\n",
        "# 条件：\n",
        "# - リストが空の場合は None を返すこと\n",
        "# - 整数・小数混在も可\n",
        "# - low, high は整数または小数で、low <= high が保証される\n",
        "\n",
        "# 実行例\n",
        "data = {\n",
        "    \"A\": [80, 75, 90, 85, 70],\n",
        "    \"B\": [60, 65, 70, 75],\n",
        "    \"C\": [100, 95, 90, 85, 80, 75],\n",
        "    \"D\": [],         # 要素なし\n",
        "    \"E\": [88.5, 88.7, 88.1, 85]\n",
        "}\n",
        "low = 80\n",
        "high = 90\n",
        "# 期待される出力例（参考値）:\n",
        "# {'A': 3, 'B': 1, 'C': 3, 'D': None, 'E': 4}\n",
        "\n",
        "# 解答\n",
        "def count_in_range(data, low, high):\n",
        "    result = {}\n",
        "    for group, scores in data.items():\n",
        "        if not scores:\n",
        "            result[group] = None\n",
        "        else:\n",
        "            result[group] = sum(1 for s in scores if low <= s <= high)\n",
        "    return result"
      ],
      "metadata": {
        "id": "Va2lnxvpx0dW"
      },
      "execution_count": null,
      "outputs": []
    }
  ]
}