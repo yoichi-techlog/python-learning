{
  "nbformat": 4,
  "nbformat_minor": 0,
  "metadata": {
    "colab": {
      "provenance": [],
      "authorship_tag": "ABX9TyMK7u3y/ydvy4oL0SOCYVpN",
      "include_colab_link": true
    },
    "kernelspec": {
      "name": "python3",
      "display_name": "Python 3"
    },
    "language_info": {
      "name": "python"
    }
  },
  "cells": [
    {
      "cell_type": "markdown",
      "metadata": {
        "id": "view-in-github",
        "colab_type": "text"
      },
      "source": [
        "<a href=\"https://colab.research.google.com/github/yoichi-techlog/python-learning/blob/main/2025_08_14_python_exercises.ipynb\" target=\"_parent\"><img src=\"https://colab.research.google.com/assets/colab-badge.svg\" alt=\"Open In Colab\"/></a>"
      ]
    },
    {
      "cell_type": "code",
      "execution_count": null,
      "metadata": {
        "id": "KCV8yszYJymt"
      },
      "outputs": [],
      "source": [
        "# 問題：get_variance_by_group(data)\n",
        "# 与えられた辞書 data において、各グループの分散（不偏分散）を計算して辞書で返す関数を作ってください。\n",
        "# 条件：\n",
        "# - リストが空または要素数が1の場合は None を返すこと\n",
        "# - 整数・小数混在も可\n",
        "# - 小数第2位まで四捨五入\n",
        "# - 不偏分散 = Σ (x - 平均)^2 / (n - 1)\n",
        "\n",
        "# 実行例\n",
        "data = {\n",
        "    \"A\": [80, 75, 90, 85, 70],\n",
        "    \"B\": [60, 65, 70, 75],\n",
        "    \"C\": [100, 95, 90, 85, 80, 75],\n",
        "    \"D\": [],         # 要素なし\n",
        "    \"E\": [88.5, 88.7, 88.1],\n",
        "    \"F\": [42]        # 要素1つ\n",
        "}\n",
        "# 期待される出力例（参考値）:\n",
        "# {'A': 62.5, 'B': 41.67, 'C': 54.17, 'D': None, 'E': 0.07, 'F': None}\n",
        "\n",
        "# 解答\n",
        "def get_variance_by_group(data):\n",
        "  result = {}\n",
        "  for group, scores in data.items():\n",
        "    n = len(scores)\n",
        "    if n <= 1:\n",
        "      result[group] = None\n",
        "    else:\n",
        "      mean = sum(scores) / n\n",
        "      # 変数名は英語の方が望ましい（例: sum_squared_diff）\n",
        "      hensaheihowa = 0\n",
        "      for s in scores:\n",
        "        hensaheihowa += ((s - mean) ** 2)  # () は省略できるが必須ではない\n",
        "      result[group] = round(hensaheihowa / (n - 1), 2)\n",
        "  return result"
      ]
    }
  ]
}