{
  "cells": [
    {
      "cell_type": "markdown",
      "metadata": {
        "id": "view-in-github",
        "colab_type": "text"
      },
      "source": [
        "<a href=\"https://colab.research.google.com/github/yoichi-techlog/python-learning/blob/main/python_score_exercises.ipynb\" target=\"_parent\"><img src=\"https://colab.research.google.com/assets/colab-badge.svg\" alt=\"Open In Colab\"/></a>"
      ]
    },
    {
      "cell_type": "code",
      "execution_count": null,
      "metadata": {
        "id": "RqQqtNdE_JUy"
      },
      "outputs": [],
      "source": [
        "def sekilist(a,b):\n",
        "    pairs = list(zip(a,b))\n",
        "    return[i[0] * i[1] for i in pairs]"
      ]
    },
    {
      "cell_type": "code",
      "execution_count": null,
      "metadata": {
        "id": "pdi-JB7KL5_R"
      },
      "outputs": [],
      "source": [
        "def more_three(words):\n",
        "    mthree = list(filter(lambda x: len(x) >= 3, words))\n",
        "    return mthree"
      ]
    },
    {
      "cell_type": "code",
      "execution_count": null,
      "metadata": {
        "id": "-irIknwNShU3"
      },
      "outputs": [],
      "source": [
        "def nijo(a):\n",
        "    return(list(map(lambda x: x ** 2, a)))"
      ]
    },
    {
      "cell_type": "code",
      "execution_count": null,
      "metadata": {
        "id": "LH5RcAo5TC-F"
      },
      "outputs": [],
      "source": [
        "def over_80(scorelist):\n",
        "   return[(i, name) for i, (name,score) in emanurate(scorelist) if score >= 80]"
      ]
    },
    {
      "cell_type": "code",
      "execution_count": null,
      "metadata": {
        "id": "uOyQOHGtYdr0"
      },
      "outputs": [],
      "source": [
        "def tridou(numbers):\n",
        "    return [x * 2 for x in numbers if x % 3 == 0]"
      ]
    },
    {
      "cell_type": "markdown",
      "metadata": {
        "id": "NB9j6TTRanO7"
      },
      "source": []
    },
    {
      "cell_type": "code",
      "execution_count": null,
      "metadata": {
        "id": "pF_aHKAlankt"
      },
      "outputs": [],
      "source": [
        "def over60names(scores):\n",
        "    return [scores{key} for scores{key},scores{value} in scores if scores{value} >= 60]"
      ]
    },
    {
      "cell_type": "code",
      "execution_count": null,
      "metadata": {
        "id": "jmYYNFd4qUqC"
      },
      "outputs": [],
      "source": [
        "def pythonin(texts):\n",
        "    return list(i, characters for i, characters in enumerate(texts) if \"Python\" in characters)"
      ]
    },
    {
      "cell_type": "code",
      "execution_count": null,
      "metadata": {
        "id": "S-_pnU5YQWBv"
      },
      "outputs": [],
      "source": [
        "def over80stu(a,b):\n",
        "    return list(name for name, score in zip(a,b) if score >= 80)"
      ]
    },
    {
      "cell_type": "code",
      "execution_count": null,
      "metadata": {
        "id": "hAifJ2V2UHOi"
      },
      "outputs": [],
      "source": [
        "def avethree(kokugo, sugaku, eigo):\n",
        "    return[(k + s + e) / 3 for k, s, e in zip(kokugo, sugaku, eigo)]\n"
      ]
    },
    {
      "cell_type": "code",
      "execution_count": null,
      "metadata": {
        "id": "a8ThKutncB5D"
      },
      "outputs": [],
      "source": [
        "def nameave(name, kokugo, math):\n",
        "    return[(n, round((k + m) / 2, 2)) for n, k, m in zip(name, kokugo, math)]"
      ]
    },
    {
      "cell_type": "code",
      "execution_count": null,
      "metadata": {
        "id": "hrrHbARYy2fp"
      },
      "outputs": [],
      "source": [
        "def over60names(name, kokugo, math):\n",
        "    return[n for n, k, m in zip(name, kokugo, math) if 60 >= (k + m) / 2]"
      ]
    },
    {
      "cell_type": "code",
      "execution_count": null,
      "metadata": {
        "id": "1hNPWwWu05CJ"
      },
      "outputs": [],
      "source": [
        "def nameave(name, kokugo, math):\n",
        "    return[(n, (k + m) / 2) for n, k, m in zip(name, kokugo, math)]"
      ]
    },
    {
      "cell_type": "code",
      "execution_count": null,
      "metadata": {
        "id": "tiZV8T6g5QFW"
      },
      "outputs": [],
      "source": [
        "def nameave60over(name, kokugo, math):\n",
        "    return[(n, (k + m) / 2) for n, k, m in zip(name, kokugo, math) if 60 <= (k + m) / 2]"
      ]
    },
    {
      "cell_type": "code",
      "execution_count": null,
      "metadata": {
        "id": "aDOt9wH5FUpb"
      },
      "outputs": [],
      "source": [
        "def libnameave(name, kokugo, math):\n",
        "    return{n: (kokugo + math) / 2 for n, k, m in zip(name, kokugo, math)}"
      ]
    },
    {
      "cell_type": "code",
      "execution_count": null,
      "metadata": {
        "colab": {
          "base_uri": "https://localhost:8080/",
          "height": 109
        },
        "id": "-Nfu1kS6HsCp",
        "outputId": "de4f30e0-67fe-42a9-af6d-a2063631cc04"
      },
      "outputs": [
        {
          "ename": "SyntaxError",
          "evalue": "invalid syntax (ipython-input-3122922701.py, line 2)",
          "output_type": "error",
          "traceback": [
            "\u001b[0;36m  File \u001b[0;32m\"/tmp/ipython-input-3122922701.py\"\u001b[0;36m, line \u001b[0;32m2\u001b[0m\n\u001b[0;31m    return max(n, key=(k, m, e) / 3) for n, k, m, e in zip(name, kokugo, math, english)\u001b[0m\n\u001b[0m                                     ^\u001b[0m\n\u001b[0;31mSyntaxError\u001b[0m\u001b[0;31m:\u001b[0m invalid syntax\n"
          ]
        }
      ],
      "source": [
        "def maxave(name, kokugo, math, english):\n",
        "    return max(n, key=(k, m, e) / 3) for n, k, m, e in zip(name, kokugo, math, english)"
      ]
    },
    {
      "cell_type": "code",
      "execution_count": null,
      "metadata": {
        "id": "vasGBF3VLtbE"
      },
      "outputs": [],
      "source": [
        "def engmax(name, english):\n",
        "    return max([n, e for n, e in zip(name, elglish)], key=lambda x: x[1])[0]"
      ]
    },
    {
      "cell_type": "code",
      "execution_count": null,
      "metadata": {
        "id": "eJ1TWoLnOb9F"
      },
      "outputs": [],
      "source": [
        "def up60(name, english):\n",
        "    return[n for n, e in zip(name, english) if e >= 60]"
      ]
    },
    {
      "cell_type": "code",
      "execution_count": null,
      "metadata": {
        "id": "FBfiR843k0Bz"
      },
      "outputs": [],
      "source": [
        "def ttlup180(name, kokugo, math, english):\n",
        "    return[n for n, k, m, e in zip(name, kokugo, math, english) if (k + m + e) >= 180]"
      ]
    },
    {
      "cell_type": "code",
      "execution_count": null,
      "metadata": {
        "id": "5iyfq5TFr3X9"
      },
      "outputs": [],
      "source": [
        "def highest_average(name, kokugo, math, english):\n",
        "    return max((n for n, k, m, e in zip(name, kokugo, math, english)), key= (k + m + e) / 3)"
      ]
    },
    {
      "cell_type": "code",
      "execution_count": null,
      "metadata": {
        "id": "ZYjoFKIVvQIJ"
      },
      "outputs": [],
      "source": [
        "def highest_english(name, english):\n",
        "    return max(zip(name, english), key=lambda x: x[1])[0]"
      ]
    },
    {
      "cell_type": "code",
      "execution_count": null,
      "metadata": {
        "id": "dJIBNVnbzPl0"
      },
      "outputs": [],
      "source": [
        "def over_60_english(name, english):\n",
        "    return list(filter(lambda x: x[1] >= 60, zip(name, english)))[1]"
      ]
    },
    {
      "cell_type": "code",
      "execution_count": null,
      "metadata": {
        "id": "SR6vOzTS2HAm"
      },
      "outputs": [],
      "source": [
        "def double_english_scores(english):\n",
        "    return list(map(x * 2, lambda x: english))"
      ]
    },
    {
      "cell_type": "code",
      "execution_count": null,
      "metadata": {
        "id": "QJxrQl3C4P1x"
      },
      "outputs": [],
      "source": [
        "def passed_english(name, english):\n",
        "    return[n for n, e in zip(name, english) if e >= 60]\n"
      ]
    },
    {
      "cell_type": "code",
      "execution_count": null,
      "metadata": {
        "id": "fmBSQ_G2avDF"
      },
      "outputs": [],
      "source": [
        "def average_pass(name, kokugo, math):\n",
        "    return[n, for n, k, m in zip(name, kokugo, math) if (k + m) / 2 >= 60]"
      ]
    },
    {
      "cell_type": "code",
      "execution_count": null,
      "metadata": {
        "id": "_T3IWVpjfpGY"
      },
      "outputs": [],
      "source": [
        "def name_to_average(name, kokugo, math):\n",
        "    return{n : (k + m) / 2 for n, k, m in zip(name, kokugo, math)}"
      ]
    },
    {
      "cell_type": "code",
      "execution_count": null,
      "metadata": {
        "id": "kAxlvcTXhqwZ"
      },
      "outputs": [],
      "source": [
        "def highest_average(name, kokugo, math, english):\n",
        "    return max(lambda x: (x[1] + x[2] + x[3]) / 3, zip(name, kokugo, math, english))[0]"
      ]
    },
    {
      "cell_type": "code",
      "execution_count": null,
      "metadata": {
        "id": "brWonlDPjyYG"
      },
      "outputs": [],
      "source": [
        "def highest_english(name, english):\n",
        "    return max(zip(name, english), key= lambda x: x[1])[0]"
      ]
    },
    {
      "cell_type": "code",
      "execution_count": null,
      "metadata": {
        "id": "G55t89nqlJLA"
      },
      "outputs": [],
      "source": [
        "def passed_english(name, english):\n",
        "    return [n for n, e in zip(name, english) if e >= 60]"
      ]
    },
    {
      "cell_type": "code",
      "execution_count": null,
      "metadata": {
        "id": "HOCBCnsQlXd9"
      },
      "outputs": [],
      "source": [
        "def highest_average(name, kokugo, math, english):\n",
        "    return max(zip(name, kokugo, math, english, key=lambda x: (x[1], x[2], x[3]) / 3))[0]"
      ]
    },
    {
      "cell_type": "code",
      "execution_count": null,
      "metadata": {
        "id": "f4534Vkfnn-n"
      },
      "outputs": [],
      "source": [
        "def highest_english(name, english):\n",
        "    return max(zip(name, english), key=lambda x: x[1])"
      ]
    },
    {
      "cell_type": "code",
      "execution_count": null,
      "metadata": {
        "id": "iNsoodd6oXlT"
      },
      "outputs": [],
      "source": [
        "def passed_english(name, english):\n",
        "    return[n for n, e in zip(name, english) if e >= 60]"
      ]
    },
    {
      "cell_type": "code",
      "execution_count": null,
      "metadata": {
        "id": "o5aSoJjqoeFC"
      },
      "outputs": [],
      "source": [
        "def average_pass(name, kokugo, math):\n",
        "    return[n for n, k, m in zip(name, kokugo, math) if (k + m) / 2 >= 60]"
      ]
    },
    {
      "cell_type": "code",
      "execution_count": null,
      "metadata": {
        "id": "7LnA1qOnqSXn"
      },
      "outputs": [],
      "source": [
        "def name_to_average(name, kokugo, math):\n",
        "    return{n : (k + m) / 2 for n, k, m in zip(name, kokugo, math)}"
      ]
    },
    {
      "cell_type": "code",
      "execution_count": null,
      "metadata": {
        "id": "yMSaOCrysxT5"
      },
      "outputs": [],
      "source": [
        "def highest_average(name, kokugo, math, english):\n",
        "    return max(zip(name, kokugo, math, english), key=lambda x: (x[1] + x[2] + x[3]) / 3)[0]"
      ]
    },
    {
      "cell_type": "code",
      "execution_count": null,
      "metadata": {
        "id": "lghUuGD9y-ZG"
      },
      "outputs": [],
      "source": [
        "def filter_multiples_of_three(numbers):\n",
        "    return[x for x in numbers if x % 3 == 0]"
      ]
    },
    {
      "cell_type": "code",
      "execution_count": null,
      "metadata": {
        "id": "18YDTTku0rHB"
      },
      "outputs": [],
      "source": [
        "def double_passed_scores(english):\n",
        "    return[e * 2 if e >= 60 else e for e in english]"
      ]
    },
    {
      "cell_type": "code",
      "execution_count": null,
      "metadata": {
        "id": "GVRQLoxs2jOU"
      },
      "outputs": [],
      "source": [
        "def average_pass_list(name, kokugo, math):\n",
        "    return[(n, round((k + m) / 2, 2) for n, k, m in zip(name, kokugo, math) if round((k + m) / 2, 2) >= 60)]"
      ]
    },
    {
      "cell_type": "code",
      "execution_count": null,
      "metadata": {
        "id": "hA7Wqnaj5Got"
      },
      "outputs": [],
      "source": [
        "def count_even_numbers(numbers):\n",
        "    count = 0\n",
        "    for num in numbers:\n",
        "        if num % 2 == 0:\n",
        "            count += 1\n",
        "    return count\n"
      ]
    },
    {
      "cell_type": "code",
      "execution_count": null,
      "metadata": {
        "id": "NSKfUrDt83Pw"
      },
      "outputs": [],
      "source": [
        "def highest_average(name, kokugo, math, english):\n",
        "    return max(zip(name, kokugo, math, english), key=lambda x: (x[1] + x[2] + x[3]) / 3)[0]"
      ]
    },
    {
      "cell_type": "markdown",
      "metadata": {
        "id": "t-0KaQ7iw_MT"
      },
      "source": [
        "🧩 今日の問題（問題36～問題43：計8問）\n",
        "\n",
        "filter_multiples_of_three(numbers)\n",
        " → リストから3の倍数を抽出する関数\n",
        "\n",
        "count_even_numbers(numbers)\n",
        " → リスト内の偶数の個数を返す関数\n",
        "\n",
        "double_passed_scores(english)\n",
        " → 60点以上の英語点は2倍、不合格はそのまま返す関数\n",
        "\n",
        "average_pass_list(name, kokugo, math)\n",
        " → 国語・数学の平均が60以上の生徒の名前と平均点タプルのリストを返す\n",
        "\n",
        "top_english_scores(name, english, n=3)\n",
        " → 英語上位 n 名を（名前、点数）タプルで返す関数\n",
        "\n",
        "highest_average_with_threshold(name, kokugo, math, english, threshold=80)\n",
        " → 平均点が threshold（デフォルト80）以上の生徒の名前をリストで返す\n",
        "\n",
        "subject_averages(scores_dict)\n",
        " → 各教科の平均点を計算し、辞書（教科名: 平均点）で返す関数\n",
        "\n",
        "normalize_scores(scores)\n",
        " → 点数リストを 0〜1 に正規化（min-max）した新リストを返す\n",
        "\n"
      ]
    },
    {
      "cell_type": "code",
      "execution_count": null,
      "metadata": {
        "id": "mDb8PykLwDPj"
      },
      "outputs": [],
      "source": [
        "def filter_multiples_of_three(numbers):\n",
        "    return[n for n in numbers if n % 3 == 0]"
      ]
    },
    {
      "cell_type": "code",
      "execution_count": null,
      "metadata": {
        "id": "Z1CEI3O3xGCe"
      },
      "outputs": [],
      "source": [
        "#間違い出題\n",
        "def double_even_numbers(numbers):\n",
        "    return[n * 2 if n % 2 == 0 else n for n in numbers]"
      ]
    },
    {
      "cell_type": "code",
      "execution_count": null,
      "metadata": {
        "id": "nCeFHNoYzeEW"
      },
      "outputs": [],
      "source": [
        "#間違い出題\n",
        "def double_only_even(numbers):\n",
        "    return[n * 2 for n in numbers if n % 2 == 0]"
      ]
    },
    {
      "cell_type": "code",
      "execution_count": null,
      "metadata": {
        "id": "-d7JiXkS1Flt"
      },
      "outputs": [],
      "source": [
        "def count_even_numbers(numbers):\n",
        "    return sum(1 for n in numbers if n % 2 == 0)"
      ]
    },
    {
      "cell_type": "code",
      "execution_count": null,
      "metadata": {
        "id": "XRwoI5ST2LA-"
      },
      "outputs": [],
      "source": [
        "def double_passed_scores(english):\n",
        "    return[e * 2 if e >= 60 else e for e in english]"
      ]
    },
    {
      "cell_type": "code",
      "execution_count": null,
      "metadata": {
        "id": "SqCcldd_3RkH"
      },
      "outputs": [],
      "source": [
        "def average_pass_list(name, kokugo, math):\n",
        "    return[(n, round((k + m) / 2), 2) for n, k ,m in zip(name, kokugo, math) if (k + m) / 2 >= 60]"
      ]
    },
    {
      "cell_type": "code",
      "execution_count": null,
      "metadata": {
        "id": "5BM5SK8t5qlV"
      },
      "outputs": [],
      "source": [
        "def top_english_scores(name, english, n=3):\n",
        "    sorted_scores = sorted(zip(name, english), key=lambda x: x[1], reverse=True)\n",
        "    return[n for n, e in sorted_scores]"
      ]
    },
    {
      "cell_type": "code",
      "execution_count": null,
      "metadata": {
        "id": "L4-fJpDA9UrL"
      },
      "outputs": [],
      "source": [
        "def highest_average_with_threshold(name, kokugo, math, english, threshold=80):\n",
        "    return max([n for n, k, m, e in zip(name, kokugo, math, english)], key=lambda x: (k + m + e) / 3) if (k + m + e) / 3 >= threshold else None"
      ]
    },
    {
      "cell_type": "code",
      "execution_count": null,
      "metadata": {
        "id": "HWY4RciO8XEq"
      },
      "outputs": [],
      "source": [
        "def subject_averages(kokugo, math, english):\n",
        "    return{\"kokugo\", \"math\", \"english\": round(sum(kokugo) / len(kokugo), 2), round(sum(math) / len(math), 2), round(sum(english) / len(english), 2)}"
      ]
    },
    {
      "cell_type": "code",
      "execution_count": null,
      "metadata": {
        "id": "h3G5Oq2cNPtb"
      },
      "outputs": [],
      "source": [
        "def normalize_scores(scores):\n",
        "    return [round(score / max(scores) * 100, 1) for score in scores] if"
      ]
    },
    {
      "cell_type": "markdown",
      "metadata": {
        "id": "cZ_N4TMA45Ja"
      },
      "source": [
        "🔢 本日の予定（問題44～問題51）\n",
        "\n",
        "問題44：\n",
        "filter_odd_numbers(numbers)\n",
        "▶ 奇数だけを抽出して返す関数\n",
        "\n",
        "問題45：\n",
        "multiply_scores_by_factor(scores, factor=1.5)\n",
        "▶ 各点数に指定した係数をかけたリストを返す関数\n",
        "\n",
        "問題46：\n",
        "get_names_with_low_scores(name, scores, threshold=40)\n",
        "▶ 指定した点数未満の生徒名をリストで返す関数\n",
        "\n",
        "問題47：\n",
        "total_score_per_student(name, kokugo, math, english)\n",
        "▶ 生徒ごとの3教科の合計点を辞書で返す関数\n",
        "\n",
        "問題48：\n",
        "students_above_average(name, kokugo, math, english)\n",
        "▶ 平均点以上の合計点を取った生徒名を返す関数\n",
        "\n",
        "問題49：\n",
        "score_distribution(scores)\n",
        "▶ 10点ごとの範囲に分けて、得点分布（辞書）を返す関数\n",
        "　（例: {'0-9': 1, '10-19': 2, ..., '90-100': 3}）\n",
        "\n",
        "問題50：\n",
        "top_scorer_in_each_subject(name, kokugo, math, english)\n",
        "▶ 各教科で最も点数の高い生徒名を辞書で返す関数\n",
        "　（例: {'kokugo': 'A', 'math': 'B', 'english': 'C'}）\n",
        "\n",
        "問題51：\n",
        "students_failing_any(name, kokugo, math, english)\n",
        "▶ いずれかの教科で60点未満の生徒名を返す関数"
      ]
    },
    {
      "cell_type": "code",
      "execution_count": null,
      "metadata": {
        "id": "3aafIOcl5Agr"
      },
      "outputs": [],
      "source": [
        "def filter_odd_numbers(numbers):\n",
        "    return[n for n in numbers if n % 2 != 0]"
      ]
    },
    {
      "cell_type": "code",
      "execution_count": null,
      "metadata": {
        "id": "T8FOwO3Q8IxW"
      },
      "outputs": [],
      "source": [
        "def multiply_scores_by_factor(scores, factor=1.5):\n",
        "    return[s * factor for s in scores]"
      ]
    },
    {
      "cell_type": "code",
      "execution_count": null,
      "metadata": {
        "id": "7h4M4jlXDefd"
      },
      "outputs": [],
      "source": [
        "def get_names_with_low_scores(name, scores, threshold=40):\n",
        "    return[n for n, s in zip(name, scores) if s < threshold]"
      ]
    },
    {
      "cell_type": "code",
      "execution_count": null,
      "metadata": {
        "id": "u9kJKPmOHUAh"
      },
      "outputs": [],
      "source": [
        "def total_score_per_student(name, kokugo, math, english):\n",
        "    return {n : (k + m + e) for n, k, m, e in zip(name, kokugo, math, english)}"
      ]
    },
    {
      "cell_type": "code",
      "execution_count": null,
      "metadata": {
        "id": "ZiEIJcPTJPtb"
      },
      "outputs": [],
      "source": [
        "def students_above_average(name, kokugo, math, english):\n",
        "    zentai = kokugo / len(name) + math / len(name) + english / len(name)\n",
        "    return [n for n, k, m, e in zip(name, kokugo, math, english) if (k + m + e) >= zentai]"
      ]
    },
    {
      "cell_type": "code",
      "execution_count": null,
      "metadata": {
        "id": "P50PJIQ4MsD1"
      },
      "outputs": [],
      "source": [
        "def score_distribution(scores):\n",
        "# 自分の書いたコード   return {(0 + (s // 10) * 10) + \"-\" + (9 + (s // 10) * 10)}\n",
        "\n",
        "distribution = {}\n",
        "\n",
        "for score in scores:\n",
        "    if score == 100:\n",
        "        key_str = \"100\"\n",
        "    else\n",
        "        key = (score // 10) * 10\n",
        "        # キーの表示を文字列にするなら：\n",
        "        key_str = f\"{key}〜{key+9}\"\n",
        "        # カウントを更新\n",
        "\n",
        "    if key_str in distribution:\n",
        "        distribution[key_str] += 1\n",
        "    else:\n",
        "        distribution[key_str] = 1\n",
        "return distribution\n"
      ]
    },
    {
      "cell_type": "code",
      "execution_count": null,
      "metadata": {
        "id": "Co9JZ6Gpa3cj"
      },
      "outputs": [],
      "source": [
        "def top_scorer_in_each_subject(name, kokugo, math, english):\n",
        "    kamokuname = [kokugo, math, english]\n",
        "    {[(n for n in kamokuname): max(zip(name, kokugo, math, english), key=lambda x: len(name))[i+1] for n, k, m, e in zip(name, kokugo, math, english):\n",
        "        max()"
      ]
    },
    {
      "cell_type": "code",
      "execution_count": null,
      "metadata": {
        "id": "UqogJwoRe1x9"
      },
      "outputs": [],
      "source": [
        "def students_failing_any(name, kokugo, math, english):\n",
        "    kokugo_list [n for n, k in zip(name, kokugo) if k < 60]\n",
        "    math_list [n for n, m in zip(name, math) if m < 60]\n",
        "    english_list [n for n, e in zip(name, english) if e < 60]\n",
        "\n",
        "    nameslist = kokugo_list + math_list + english_list\n",
        "\n",
        "    return [n for n in nameslist if ]"
      ]
    },
    {
      "cell_type": "markdown",
      "metadata": {
        "id": "zM_AKc0R6gDo"
      },
      "source": [
        "🔢 本日の予定（問題52〜問題59：計8問）\n",
        "以下の関数作成に取り組んでいきます：\n",
        "\n",
        "問題52: add_bonus(scores, bonus=5)\n",
        "→ 各点数に指定されたボーナス点を加えて返す関数\n",
        "\n",
        "問題53: round_scores(scores)\n",
        "→ 点数リストを四捨五入して整数リストにする関数\n",
        "\n",
        "問題54: replace_fail(scores, pass_score=60)\n",
        "→ 60点未満を \"Fail\"、それ以外を \"Pass\" とするリストを返す関数\n",
        "\n",
        "問題55: summary_statistics(scores)\n",
        "→ 最大値・最小値・平均・合格率などをまとめた辞書を返す関数\n",
        "\n",
        "問題56: normalize_scores_to_100(scores)\n",
        "→ 今日の課題と類似。0〜1ではなく0〜100に整形する関数\n",
        "\n",
        "問題57: merge_student_scores(name, kokugo, math, english)\n",
        "→ name と各科目の点数から「名前：合計点／平均点」の辞書を生成する関数\n",
        "\n",
        "問題58: score_grade_distribution(scores)\n",
        "→ 点数リストに基づいて、5段階などのグレード分布を辞書で返す関数\n",
        "\n",
        "問題59: curve_scores(scores, curve=10)\n",
        "→ 点数にカーブ（+10など）を適用し、100点超えは100でクリップする関数"
      ]
    },
    {
      "cell_type": "code",
      "execution_count": null,
      "metadata": {
        "id": "XWE4eA5A7KlY"
      },
      "outputs": [],
      "source": [
        "def passed_all_subjects(name, kokugo, math, english):\n",
        "    return [n for n, k, m, e in zip(name, kokugo, math, english) if k >= 60 and m >= 60 and e >= 60]"
      ]
    },
    {
      "cell_type": "code",
      "execution_count": null,
      "metadata": {
        "id": "NNIsRqXx_eP7"
      },
      "outputs": [],
      "source": [
        "def round_scores(scores):\n",
        "    return [int(score + 0.5) for score in scores]"
      ]
    },
    {
      "cell_type": "code",
      "execution_count": null,
      "metadata": {
        "id": "ZGS7Xc5fLRsy"
      },
      "outputs": [],
      "source": [
        "def replace_fail(scores, pass_score=60):\n",
        "    return [pass_score if score < pass_score else score for score in scores]"
      ]
    },
    {
      "cell_type": "code",
      "execution_count": null,
      "metadata": {
        "id": "eR9_jbcUNG_5"
      },
      "outputs": [],
      "source": [
        "def summary_statistics(scores):\n",
        "    statistics = [\"max\", \"min\", \"average\", \"pass_rate\"]\n",
        "    maximum = max(scores)\n",
        "    minimum = min(scores)\n",
        "    average = sum(scores) / len(scores)\n",
        "\n",
        "    return {statistics: [maximum, minimum, average] for i in scores}"
      ]
    },
    {
      "cell_type": "code",
      "execution_count": null,
      "metadata": {
        "id": "V2VH5wQmQ7DZ"
      },
      "outputs": [],
      "source": [
        "def add_bonus(scores, bonus=5):\n",
        "    return [score + bonus for score in scores]"
      ]
    },
    {
      "cell_type": "code",
      "execution_count": null,
      "metadata": {
        "id": "kEurlLJVSAPR"
      },
      "outputs": [],
      "source": [
        "def normalize_scores_to_100(scores):\n",
        "    return [0.0 if else round(score / max(scores) * 100, 1) for score in scores]"
      ]
    },
    {
      "cell_type": "code",
      "execution_count": null,
      "metadata": {
        "id": "puPVIAK5cjro"
      },
      "outputs": [],
      "source": [
        "def merge_student_scores(name, kokugo, math, english):\n",
        "    return {n: f\"{k + m + e}／{round((k + m + e) / 3, 1)}\" for n, k, m, e in zip(name, kokugo, math, english)}"
      ]
    },
    {
      "cell_type": "code",
      "execution_count": null,
      "metadata": {
        "id": "6A-OeQ-8geQh"
      },
      "outputs": [],
      "source": [
        "def score_grade_distribution(scores):\n",
        "\n",
        "    scolist = [score // 10 for score in scores]\n",
        "    return {0-59: sum()}"
      ]
    },
    {
      "cell_type": "code",
      "execution_count": null,
      "metadata": {
        "id": "nvqqhabymEio"
      },
      "outputs": [],
      "source": [
        "def curve_scores(scores, curve=10):\n",
        "    return [min(score + curve, 100) for score in scores]"
      ]
    },
    {
      "cell_type": "markdown",
      "metadata": {
        "id": "0Ib4QSM2XUrv"
      },
      "source": [
        "✅ 今日の予定：問題60～問題67（計8問）\n",
        "\n",
        "問題番号\t関数名\t内容概要\n",
        "\n",
        "60\tfilter_by_subject\t指定教科の点数が一定以上の生徒を抽出\n",
        "\n",
        "61\tstudents_below_average\t平均点未満の生徒名をリストで返す\n",
        "\n",
        "62\ttop_total_score\t合計点で最も高い生徒名を返す\n",
        "\n",
        "63\tsubject_high_low\t各教科の最高点・最低点を辞書で返す\n",
        "\n",
        "64\tadjust_scores\t関数引数 adjust_func を使ってスコアを変換\n",
        "\n",
        "65\tconvert_scores_to_grade\t数値スコアを A〜F グレードに変換\n",
        "\n",
        "66\tstudents_in_grade_range\t特定グレードに属する生徒を抽出\n",
        "\n",
        "67\tscore_statistics\t平均・中央値・標準偏差を含む統計辞書作成\n",
        "\n"
      ]
    },
    {
      "cell_type": "code",
      "execution_count": null,
      "metadata": {
        "id": "q_pXHK7-buty"
      },
      "outputs": [],
      "source": [
        "def filter_by_subject(name, subject_scores, threshold):\n",
        "    return [n for n, s, t in zip(name, subject_scores, threshold) if s >= t]"
      ]
    },
    {
      "cell_type": "markdown",
      "metadata": {
        "id": "CyzfMD19fOFo"
      },
      "source": [
        "def students_below_average(name, kokugo, math, english):\n",
        "    allave = ((K + m + e) for k, m, e in zip(kokugo, math, english)) / len(name)\n",
        "    return [n for n, k, m, e in zip(name, kokugo, math, english) if (k + m + e) / 3 < allave]"
      ]
    },
    {
      "cell_type": "code",
      "execution_count": null,
      "metadata": {
        "id": "fhssq4ULvIMM"
      },
      "outputs": [],
      "source": [
        "def top_total_score(name, kokugo, math, english):\n",
        "    return max([(k + m + e) for n, k, m, e in zip(name, kokugo, math, english)])[0]"
      ]
    },
    {
      "cell_type": "code",
      "execution_count": null,
      "metadata": {
        "id": "ODgEDvXlyA1a"
      },
      "outputs": [],
      "source": [
        "def subject_high_low(kokugo, math, english):\n",
        "\n",
        "    kokugolib = {\"kokugo\": (max(kokugo), min(kokugo))}\n",
        "    mathlib = {\"math\": (max(math), min(math))}\n",
        "    englishlib = {\"english\": (max(english), min(english))}\n",
        "    return {kokugolib, mathlib, englishalib}"
      ]
    },
    {
      "cell_type": "code",
      "execution_count": null,
      "metadata": {
        "id": "9bTltueh1mB7"
      },
      "outputs": [],
      "source": [
        "def adjust_scores(scores, adjust_func):\n",
        "    return [af(s) for s, af in zip(scores, adjust_func)]\n"
      ]
    },
    {
      "cell_type": "code",
      "execution_count": null,
      "metadata": {
        "id": "uQElejpG2vn-"
      },
      "outputs": [],
      "source": [
        "def convert_scores_to_grade(scores):\n",
        "    grade = []\n",
        "    for s in scores:\n",
        "        if s >=90:\n",
        "            grade += \"A\"\n",
        "        elif s >= 80:\n",
        "            grade += \"B\"\n",
        "        elif s >= 70:\n",
        "            grade += \"C\"\n",
        "        elif s >= 60:\n",
        "            grade += \"D\"\n",
        "        else:\n",
        "            grade += \"E\"\n",
        "\n",
        "    return grade"
      ]
    },
    {
      "cell_type": "code",
      "execution_count": null,
      "metadata": {
        "id": "ihP7ZBjG-5IZ"
      },
      "outputs": [],
      "source": [
        "def students_in_grade_range(name, scores, grade):\n",
        "    diclist = {'A': 90, 'B': 80, 'C': 70, 'D': 60, 'E': 50}\n",
        "    return [n for n, s in zip(name, scores) if key]"
      ]
    },
    {
      "cell_type": "code",
      "execution_count": null,
      "metadata": {
        "id": "7j9QR4EoB1NU"
      },
      "outputs": [],
      "source": [
        "def score_statistics(scores):\n",
        "    mean = sum(scores) / len(scores)\n",
        "    median = scores[len(scores) / 2]\n",
        "    std_dev = math.sqrt(scores)\n",
        "    return {'mean': mean, 'median': median, 'std_dev': std_dev}"
      ]
    },
    {
      "cell_type": "markdown",
      "metadata": {
        "id": "860ob7KN-QXD"
      },
      "source": [
        "問題68: normalize_scores_to_1(scores)\n",
        "→ 点数リストを0〜1の範囲に正規化する関数を作成する\n",
        "\n",
        "問題69: filter_scores_above_threshold(scores, threshold=70)\n",
        "→ 閾値以上の点数だけを抽出して返す関数\n",
        "\n",
        "問題70: count_failing_students(name, scores, pass_score=60)\n",
        "→ 合格点未満の生徒数を返す関数\n",
        "\n",
        "問題71: average_score_per_subject(subject_scores)\n",
        "→ 科目ごとの平均点を計算し辞書で返す関数\n",
        "\n",
        "問題72: students_with_perfect_score(name, scores)\n",
        "→ 満点（100点）の生徒名リストを返す関数\n",
        "\n",
        "問題73: increase_scores(scores, increment=5)\n",
        "→ 全点数に指定した増分を加えたリストを返す関数\n",
        "\n",
        "問題74: min_max_scores(scores)\n",
        "→ 点数リストの最小値・最大値を返す関数\n",
        "\n",
        "問題75: grade_distribution(scores)\n",
        "→ 5段階評価のグレード分布を辞書で返す関数"
      ]
    },
    {
      "cell_type": "code",
      "execution_count": null,
      "metadata": {
        "id": "iw6rqYju-P45"
      },
      "outputs": [],
      "source": [
        "def normalize_scores_to_1(scores):\n",
        "    return [round(score / max(scores), 2) if score != 0 else 0.0 for score in scores]"
      ]
    },
    {
      "cell_type": "code",
      "execution_count": null,
      "metadata": {
        "colab": {
          "background_save": true
        },
        "id": "gf64g7C9guVS"
      },
      "outputs": [],
      "source": [
        "def filter_scores_above_threshold(scores, threshold=70):\n",
        "    return [score for score in scores if score >= 70]"
      ]
    },
    {
      "cell_type": "code",
      "execution_count": null,
      "metadata": {
        "colab": {
          "background_save": true
        },
        "id": "Y7eInD0DiThO"
      },
      "outputs": [],
      "source": [
        "def count_failing_students(name, scores, pass_score=60):\n",
        "    return sum(1 for n, score in zip(name, scores) if score < pass_score)"
      ]
    },
    {
      "cell_type": "code",
      "execution_count": null,
      "metadata": {
        "colab": {
          "background_save": true
        },
        "id": "dXtGJNDP-T3e"
      },
      "outputs": [],
      "source": [
        "def average_score_per_subject(subject_scores):\n",
        "    subjectlist = [\"kokugo\", \"math\", \"english\"]\n",
        "    return {slist: sum(sscores(slist)) / len(sscores(slist)) for sscores, slist in zip(subject_scores, subjectlist)}"
      ]
    },
    {
      "cell_type": "code",
      "execution_count": null,
      "metadata": {
        "colab": {
          "background_save": true
        },
        "id": "bTi157zz9mOP"
      },
      "outputs": [],
      "source": [
        "def students_with_perfect_score(name, scores):\n",
        "    return [n for n, score in zip(name, scores) if score == 100]"
      ]
    },
    {
      "cell_type": "code",
      "execution_count": null,
      "metadata": {
        "id": "scviMZLk_YXw"
      },
      "outputs": [],
      "source": [
        "def increase_scores(scores, increment=5):\n",
        "    return [score + increment for score in scores]"
      ]
    },
    {
      "cell_type": "code",
      "execution_count": null,
      "metadata": {
        "colab": {
          "background_save": true
        },
        "id": "kpwxnAaRAPNu"
      },
      "outputs": [],
      "source": [
        "def min_max_scores(scores):\n",
        "    return (min(scores), max(scores))"
      ]
    },
    {
      "cell_type": "code",
      "execution_count": null,
      "metadata": {
        "colab": {
          "background_save": true
        },
        "id": "weqQ6UP-CAGJ"
      },
      "outputs": [],
      "source": [
        "def grade_distribution(scores):\n",
        "    grades = {\n",
        "        'A': lambda s: 100 >= s >= 90,\n",
        "        'B': lambda s: 90 > s >= 80,\n",
        "        'C': lambda s: 80 > s >= 70,\n",
        "        'D': lambda s: 70 > s >= 60,\n",
        "        'F': lambda s: 60 > s >= 0\n",
        "    }\n",
        "    return {g: for g, l in grades.items()}"
      ]
    },
    {
      "cell_type": "code",
      "execution_count": null,
      "metadata": {
        "colab": {
          "background_save": true
        },
        "id": "ob5RyEGyY9uv"
      },
      "outputs": [],
      "source": [
        "def is_all_pass(scores, pass_score=60):\n",
        "    return for score in scores if score >= pass_score"
      ]
    },
    {
      "cell_type": "code",
      "execution_count": null,
      "metadata": {
        "colab": {
          "background_save": true
        },
        "id": "6zjSHgo6xp_4"
      },
      "outputs": [],
      "source": [
        "def is_all_pass(scores, pass_score=60):\n",
        "  return all(score >= pass_score for score in scores)"
      ]
    },
    {
      "cell_type": "code",
      "execution_count": null,
      "metadata": {
        "colab": {
          "background_save": true
        },
        "id": "8pvQFQp7zZOB"
      },
      "outputs": [],
      "source": [
        "def any_fail(scores, pass_score=60):\n",
        "  return any(score < pass_score for score in scores)"
      ]
    },
    {
      "cell_type": "code",
      "execution_count": null,
      "metadata": {
        "colab": {
          "background_save": true
        },
        "id": "Pc1EfZ6Dbr3p"
      },
      "outputs": [],
      "source": [
        "def count_pass(scores, pass_score=80):\n",
        "  return sum(1 for score in scores if score >= pass_score)"
      ]
    },
    {
      "cell_type": "code",
      "execution_count": null,
      "metadata": {
        "colab": {
          "background_save": true
        },
        "id": "Mxi1_QsVbrwz"
      },
      "outputs": [],
      "source": [
        "def count_pass(scores, pass_score=60):\n",
        "    return sum(1 for score in scores if score >= pass_score)"
      ]
    },
    {
      "cell_type": "code",
      "execution_count": null,
      "metadata": {
        "colab": {
          "background_save": true
        },
        "id": "Did2K4vgMKpQ"
      },
      "outputs": [],
      "source": [
        "def average_of_passed(scores, pass_score=60):\n",
        "\n",
        "    avenum = ave(score for score in scores if score >= pass_score)\n",
        "\n",
        "    if avenum = 0:\n",
        "        return 0\n",
        "    else:\n",
        "        avenum"
      ]
    },
    {
      "cell_type": "code",
      "execution_count": null,
      "metadata": {
        "colab": {
          "background_save": true
        },
        "id": "AjFoRzfAnMXm"
      },
      "outputs": [],
      "source": [
        "def drop_lowest_score(scores):\n",
        "  lowest = min(scores)\n",
        "  new_scores = scores.copy()\n",
        "  new_scores.remove(lowest)\n",
        "  return new_scores\n"
      ]
    },
    {
      "cell_type": "code",
      "execution_count": null,
      "metadata": {
        "colab": {
          "background_save": true
        },
        "id": "VQm0q1opf5Tl"
      },
      "outputs": [],
      "source": [
        "def drop_lowest_scores(scores):\n",
        "  copyscores = scores.copy()\n",
        "  lowest = min(scores)\n",
        "  return remove(copyscores, lowest)\n"
      ]
    },
    {
      "cell_type": "code",
      "execution_count": null,
      "metadata": {
        "colab": {
          "background_save": true
        },
        "id": "F4sJAsmBFEAe"
      },
      "outputs": [],
      "source": [
        "def average_of_passed(scores, pass_score=60):\n",
        "  passedlist = [score for score in scores if score >= pass_score]\n",
        "  if passedlist =false:\n",
        "    retrurn 0\n",
        "  else:\n",
        "    return sum(passedlist) / len(passedlist)"
      ]
    },
    {
      "cell_type": "code",
      "execution_count": null,
      "metadata": {
        "colab": {
          "background_save": true
        },
        "id": "RLb0aNN9LAkw"
      },
      "outputs": [],
      "source": [
        "def all_above_threshold(scores, threshold=50):\n",
        "  return not len([score for score in scores if score >= threshold]) == len(scores)"
      ]
    },
    {
      "cell_type": "code",
      "execution_count": null,
      "metadata": {
        "colab": {
          "background_save": true
        },
        "id": "qJL6YJcjPM4I"
      },
      "outputs": [],
      "source": [
        "def find_score_index(scores, target):\n",
        "  for i, score in enumerate(scores):\n",
        "    if score == target:\n",
        "      return i\n",
        "  returun -1"
      ]
    },
    {
      "cell_type": "code",
      "execution_count": null,
      "metadata": {
        "colab": {
          "background_save": true
        },
        "id": "X_rZj5Loi7ei"
      },
      "outputs": [],
      "source": [
        "def get_top_n_scores(scores, n=3):\n",
        "  return sorted(scores, reverse=True)[:n]"
      ]
    },
    {
      "cell_type": "code",
      "execution_count": null,
      "metadata": {
        "colab": {
          "background_save": true
        },
        "id": "StK1xxBPtNrS"
      },
      "outputs": [],
      "source": [
        "def get_score_rank(scores):\n",
        "  setedscoreslib = {i: score for i, score in enumerate(set(scores))}\n",
        "  return [i for i, score in sorted(scores, reverse=True)]"
      ]
    },
    {
      "cell_type": "code",
      "execution_count": null,
      "metadata": {
        "colab": {
          "background_save": true
        },
        "id": "6MEBUgDt02aK"
      },
      "outputs": [],
      "source": [
        "def filter_scores_in_range(scores, low=60, high=80):\n",
        "  return [score for score in scores if low <= score <=high]"
      ]
    },
    {
      "cell_type": "code",
      "execution_count": null,
      "metadata": {
        "colab": {
          "background_save": true
        },
        "id": "GJQ7jnSS3Anh"
      },
      "outputs": [],
      "source": [
        "def get_highest_score_student(name, scores):\n",
        "  return max(zip(name, scores), key=lambda x: x[1])[0]"
      ]
    },
    {
      "cell_type": "code",
      "execution_count": null,
      "metadata": {
        "colab": {
          "background_save": true
        },
        "id": "DZWqwt8D5a8I"
      },
      "outputs": [],
      "source": [
        "def get_passing_students(name, scores, pass_score=60):\n",
        "  return [n for n, score in zip(name, scores) if score >= pass_score]"
      ]
    },
    {
      "cell_type": "code",
      "execution_count": null,
      "metadata": {
        "colab": {
          "background_save": true
        },
        "id": "rqJaHvCN6Y1S"
      },
      "outputs": [],
      "source": [
        "def  calculate_score_gap(scores):\n",
        "  return max(scores) - min(scores)"
      ]
    },
    {
      "cell_type": "code",
      "execution_count": null,
      "metadata": {
        "colab": {
          "background_save": true
        },
        "id": "ek1KNIaF7Zzu"
      },
      "outputs": [],
      "source": [
        "def get_scored_summary(scores):\n",
        "  if not scores:\n",
        "    return None\n",
        "  summarylist = {}\n",
        "  summarylist{max} = max(scores)\n",
        "  summarylist{min} = min(scores)\n",
        "  summarylist{average} = sum(scores) / len(scores)\n",
        "  return summarylist"
      ]
    },
    {
      "cell_type": "code",
      "execution_count": null,
      "metadata": {
        "colab": {
          "background_save": true
        },
        "id": "eZw8lkqebkSb"
      },
      "outputs": [],
      "source": [
        "def median_score(scores):\n",
        "  newscores = sorted(scores, reverse=True)\n",
        "  if len(newscores) % 2 == 1:\n",
        "    return float(newscores[len(scores) // 2])\n",
        "  else:\n",
        "    return float((newscores[len(scores) // 2 - 1] + newscores[len(scores) // 2]) / 2)"
      ]
    },
    {
      "cell_type": "code",
      "execution_count": null,
      "metadata": {
        "colab": {
          "background_save": true
        },
        "id": "Iy0chufChF5o"
      },
      "outputs": [],
      "source": [
        "def get_score_mode(scores):\n",
        "  from collections import Counter\n",
        "  counter = Counter(scores)\n",
        "  modes = [score for score, count in counter.items() if count == max_count]\n",
        "  return min(modes)"
      ]
    },
    {
      "cell_type": "code",
      "execution_count": null,
      "metadata": {
        "colab": {
          "background_save": true
        },
        "id": "jT4VGDARd59U"
      },
      "outputs": [],
      "source": [
        "def get_unique_scores(scores):\n",
        "  return sorted(set(scores))"
      ]
    },
    {
      "cell_type": "code",
      "execution_count": null,
      "metadata": {
        "colab": {
          "background_save": true
        },
        "id": "TYoKAcSfezSH"
      },
      "outputs": [],
      "source": [
        "def sort_students_by_score(name, scores):\n",
        "  return sorted(zip(name, scores), key=score)[0]"
      ]
    },
    {
      "cell_type": "code",
      "execution_count": null,
      "metadata": {
        "colab": {
          "background_save": true
        },
        "id": "oX-Lj1cjhRAA"
      },
      "outputs": [],
      "source": [
        "def get_score_percentiles(scores):\n"
      ]
    },
    {
      "cell_type": "code",
      "execution_count": null,
      "metadata": {
        "colab": {
          "background_save": true
        },
        "id": "Y4yRPLWuj-7t"
      },
      "outputs": [],
      "source": [
        "def is_score_improving(scores):\n",
        "  if not scores:\n",
        "    retrun True\n",
        "  elif len(scores) == 1:\n",
        "    return True\n",
        "  return if scores[i-1] <= scores[i] for i in range(scores)"
      ]
    },
    {
      "cell_type": "code",
      "execution_count": null,
      "metadata": {
        "colab": {
          "background_save": true
        },
        "id": "4XOLtugxAKBj"
      },
      "outputs": [],
      "source": [
        "def is_all_same(scores):\n",
        "  if not scores:\n",
        "    return True\n",
        "  first = scores[0]\n",
        "  return all(first == s for s in scores)"
      ]
    },
    {
      "cell_type": "code",
      "execution_count": null,
      "metadata": {
        "colab": {
          "background_save": true
        },
        "id": "whgQ76SJD6hT"
      },
      "outputs": [],
      "source": [
        "def count_unique(scores):\n",
        "  return s set(scores)[i] for i in scores"
      ]
    },
    {
      "cell_type": "code",
      "execution_count": null,
      "metadata": {
        "colab": {
          "background_save": true
        },
        "id": "VYtLXjIVqj75"
      },
      "outputs": [],
      "source": [
        "def is_all_same(scores):\n",
        "  first = scores[0]\n",
        "  return all(score == first for score in scores) if score else True"
      ]
    },
    {
      "cell_type": "code",
      "execution_count": null,
      "metadata": {
        "colab": {
          "background_save": true
        },
        "id": "7udstMMnsh49"
      },
      "outputs": [],
      "source": [
        "def count_unique(scores):\n",
        "  return set(scores)"
      ]
    },
    {
      "cell_type": "code",
      "execution_count": null,
      "metadata": {
        "colab": {
          "background_save": true
        },
        "id": "AvgbXnkcshlH"
      },
      "outputs": [],
      "source": [
        "def has_duplicates(scores):\n",
        "  scores_seted = set(scores)\n",
        "  return len(scores_seted) != len(scores)"
      ]
    },
    {
      "cell_type": "code",
      "execution_count": null,
      "metadata": {
        "colab": {
          "background_save": true
        },
        "id": "F38BEW_8avd5"
      },
      "outputs": [],
      "source": [
        "def get_score_range(scores):\n",
        "  return max(scores) - min(scores) if scores else None"
      ]
    },
    {
      "cell_type": "code",
      "execution_count": null,
      "metadata": {
        "colab": {
          "background_save": true
        },
        "id": "Qq3baDxZeDcZ"
      },
      "outputs": [],
      "source": [
        "def get_score_average(scores):\n",
        "  if not scores:\n",
        "    return None\n",
        "  return round(sum(scores) / len(scores), 2)"
      ]
    },
    {
      "cell_type": "code",
      "execution_count": null,
      "metadata": {
        "colab": {
          "background_save": true
        },
        "id": "UAa8vd6MfgEm"
      },
      "outputs": [],
      "source": [
        "def round_scores_to_nearest_10(scores):\n",
        "  return [round(s, -1) for s in scores] if scores else None"
      ]
    },
    {
      "cell_type": "code",
      "execution_count": null,
      "metadata": {
        "colab": {
          "background_save": true
        },
        "id": "qcPEYHV6h8yT"
      },
      "outputs": [],
      "source": [
        "def is_score_monotonic(scores):\n",
        "  return (\n",
        "      all(scores[i] >= scores[i + 1] for i in range(len(scores) - 1)) or all(scores[i] <= scores[i + 1] for i in range(len(scores) - 1))\n",
        "  )"
      ]
    },
    {
      "cell_type": "code",
      "execution_count": null,
      "metadata": {
        "colab": {
          "background_save": true
        },
        "id": "HdqvaEA4nLUr"
      },
      "outputs": [],
      "source": [
        "def calculate_score_variance(scores):\n",
        "  return sum((s - sum(scores) / len(scores)) ^ 2 for s in scores) / len(scores)"
      ]
    },
    {
      "cell_type": "code",
      "execution_count": null,
      "metadata": {
        "colab": {
          "background_save": true
        },
        "id": "aDQP03BjW6ib"
      },
      "outputs": [],
      "source": [
        "import math\n",
        "def calculate_score_stddev(scores):\n",
        "  mean = sum(scores) / len(scores)\n",
        "  variance = sum([(s - mean) ** 2 for s in scores]) / len(scores)\n",
        "  return math.sqrt(variance)"
      ]
    },
    {
      "cell_type": "markdown",
      "metadata": {
        "id": "Sd2uq3sHaNT-"
      },
      "source": []
    },
    {
      "cell_type": "code",
      "execution_count": null,
      "metadata": {
        "colab": {
          "background_save": true
        },
        "id": "Hqsbs-1EaOGk"
      },
      "outputs": [],
      "source": [
        "def scale_scores(scores, factor=1.5):\n",
        "  return [round((score * factor) + 0.05, 1) for score in scores]"
      ]
    },
    {
      "cell_type": "code",
      "execution_count": null,
      "metadata": {
        "colab": {
          "background_save": true
        },
        "id": "PrQxA7HjdMXJ"
      },
      "outputs": [],
      "source": [
        "def normalize_scores(scores):\n",
        "  if not scores:\n",
        "    return None\n",
        "  return [round(s / max(scores) * 100 + 0.005, 2) for s in scores]"
      ]
    },
    {
      "cell_type": "code",
      "execution_count": null,
      "metadata": {
        "colab": {
          "background_save": true
        },
        "id": "hET26dn4H7Tm"
      },
      "outputs": [],
      "source": [
        "def clip_scores(scores, low=0, high=100):\n",
        "  return [min(high, max(low, score) for score in scores)]"
      ]
    },
    {
      "cell_type": "code",
      "execution_count": null,
      "metadata": {
        "colab": {
          "background_save": true
        },
        "id": "vN4AzhL-ZgpZ"
      },
      "outputs": [],
      "source": [
        "def apply_bonus(scores, bonus=5):\n",
        "  return [score + 5 if score + 5 <= 100 else 100 for score in scores]\n",
        "\n",
        "def apply_bonus(scoers, bonus=5):\n",
        "  return [min(score + bonus, 100) for score in scores]"
      ]
    },
    {
      "cell_type": "code",
      "execution_count": null,
      "metadata": {
        "colab": {
          "background_save": true
        },
        "id": "BDyOsDZzcf7j"
      },
      "outputs": [],
      "source": [
        "def remove_outliera(score, low=0, high=100):\n",
        "  return [score for score in scores if not score <= low or not score >= high]"
      ]
    },
    {
      "cell_type": "code",
      "execution_count": null,
      "metadata": {
        "colab": {
          "background_save": true
        },
        "id": "vXxZU4gHYKHe"
      },
      "outputs": [],
      "source": [
        "def get_score_percentiles(scores):\n",
        "  return [round(i + 1 / len(scores), 1) for i, score in enumerate(scores) if score[i - 1] != score[i] else ]\n",
        "\n",
        "def get_score_percentiles(scores):\n",
        "  return [round(sum(1 for s in scores if s < score) / len(scores), 1) for score in scores]"
      ]
    },
    {
      "cell_type": "code",
      "execution_count": null,
      "metadata": {
        "colab": {
          "background_save": true
        },
        "id": "zrgJxJOVh7M-"
      },
      "outputs": [],
      "source": [
        "def is_score_distribution_skewed(scores):\n",
        "  scores_sorted = sorted(scores, reverse=False)\n",
        "  median = scores_sorted[len(scores) / 2] if len(scores) // 2 = 1 else (scores_sorted[len(scores) / 2] + scores_sorted[(len(scores) / 2) - 1]) / 2\n",
        "  mean = sum(scores) / len(scores)\n",
        "  return median < mean"
      ]
    },
    {
      "cell_type": "code",
      "execution_count": null,
      "metadata": {
        "colab": {
          "background_save": true
        },
        "id": "py178fcyJ8vd"
      },
      "outputs": [],
      "source": [
        "def get_score_grade_distribution(scores):\n",
        "  allscoresdist = {'A': 0,'B':0, 'C': 0, 'D': 0, 'F': 0}\n",
        "\n",
        "  for score in scores:\n",
        "    if score >= 90:\n",
        "      allscoresdist['A'] += 1\n",
        "    elif score >= 80:\n",
        "      allscoresdist['B'] += 1\n",
        "    elif score >= 70:\n",
        "      allscoresdist['C'] += 1\n",
        "    elif score >= 60:\n",
        "      allscoresdist['D'] += 1\n",
        "    else:\n",
        "      allscredist['F'] += 1\n",
        "\n",
        "  return allscoresdist\n",
        "\n"
      ]
    },
    {
      "cell_type": "code",
      "execution_count": null,
      "metadata": {
        "colab": {
          "background_save": true
        },
        "id": "KMAd_I55RLL2"
      },
      "outputs": [],
      "source": [
        "def get_top_n_scores(scores, n=3):\n",
        "  return sorted(scores, reverse=True)[:n]"
      ]
    },
    {
      "cell_type": "code",
      "execution_count": null,
      "metadata": {
        "colab": {
          "background_save": true
        },
        "id": "vLb3_ym_XD-v"
      },
      "outputs": [],
      "source": [
        "def get_score_medians_by_group(data):\n",
        "  medianlist = [float(sorted(scores)[len(scores) // 2]) if len(scores) % 2 == 1 else float(sorted(scores)[len(scores) - 1] + sorted(scores)[len(scores)] / 2) for group, scores in data.items()]\n",
        "  result = {}\n"
      ]
    },
    {
      "cell_type": "code",
      "source": [
        "def round_group_averages(data, digits=1):\n",
        "\n",
        "  result = {}\n",
        "\n",
        "  for group, scores in data.items():\n",
        "    mean = round(sum(scores) / len(scores), digits)\n",
        "    result[group] = mean\n",
        "\n",
        "  return result\n",
        "\n"
      ],
      "metadata": {
        "id": "BUfOTgTy-yPb"
      },
      "execution_count": null,
      "outputs": []
    },
    {
      "cell_type": "code",
      "source": [
        "def get_score_extremes_by_group(data):\n",
        "\n",
        "  result = {}\n",
        "\n",
        "  for group, scores in data.items():\n",
        "    if scores:\n",
        "      result[group] = {\n",
        "          'min': min(scores),\n",
        "          'max': max(scores)\n",
        "      }\n",
        "\n",
        "  return result"
      ],
      "metadata": {
        "id": "UZdYE_HFBWIL"
      },
      "execution_count": null,
      "outputs": []
    },
    {
      "cell_type": "code",
      "source": [
        "def count_scores_by_group(data):\n",
        "  result = {}\n",
        "  for group, scores in data.items():\n",
        "    if scores:\n",
        "      result[group] = len(scores)\n",
        "  return result"
      ],
      "metadata": {
        "id": "krYBwB4DFJoU"
      },
      "execution_count": null,
      "outputs": []
    },
    {
      "cell_type": "code",
      "source": [
        "def filter_groups_by_average(data, threshold=70):\n",
        "  result = {}\n",
        "  for group, scores in data.items():\n",
        "    if scores:\n",
        "      ave = sum(scores) / len(scores)\n",
        "      if ave >= threshold:\n",
        "        result[group] = round(ave, 1)\n",
        "  return result"
      ],
      "metadata": {
        "id": "1oFQ0eKrAGiK"
      },
      "execution_count": null,
      "outputs": []
    },
    {
      "cell_type": "code",
      "source": [
        "def merge_group_scores(group1, group2):\n",
        "  result = {}\n",
        "  for group1, scores1 in group1.items():\n",
        "    for group2, scores2 in group2.items():\n",
        "      if group1 == group2:\n",
        "        result[group1] = scores1 + scores2\n",
        "  return result\n"
      ],
      "metadata": {
        "id": "pQMV1VV_ANaY"
      },
      "execution_count": null,
      "outputs": []
    },
    {
      "cell_type": "code",
      "source": [
        "def group_score_statistics(data):\n",
        "  result = {}\n",
        "  for group, scores in data.items():\n",
        "    mean = round(sum(scores) / len(scores), 2)\n",
        "    max = max(scores)\n",
        "    min = min(scores)\n",
        "    result[group] = ['mean': mean,'max': max,'min': min]\n",
        "  return result"
      ],
      "metadata": {
        "id": "3x_-xTPdRNeS"
      },
      "execution_count": null,
      "outputs": []
    }
  ],
  "metadata": {
    "colab": {
      "provenance": [],
      "include_colab_link": true
    },
    "kernelspec": {
      "display_name": "Python 3",
      "name": "python3"
    },
    "language_info": {
      "name": "python"
    }
  },
  "nbformat": 4,
  "nbformat_minor": 0
}