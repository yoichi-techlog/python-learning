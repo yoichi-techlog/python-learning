{
  "nbformat": 4,
  "nbformat_minor": 0,
  "metadata": {
    "colab": {
      "provenance": [],
      "authorship_tag": "ABX9TyOJ5i5vZD5htgU8VgtM1U7i",
      "include_colab_link": true
    },
    "kernelspec": {
      "name": "python3",
      "display_name": "Python 3"
    },
    "language_info": {
      "name": "python"
    }
  },
  "cells": [
    {
      "cell_type": "markdown",
      "metadata": {
        "id": "view-in-github",
        "colab_type": "text"
      },
      "source": [
        "<a href=\"https://colab.research.google.com/github/yoichi-techlog/python-learning/blob/main/2025_08_10_python_exercises.ipynb\" target=\"_parent\"><img src=\"https://colab.research.google.com/assets/colab-badge.svg\" alt=\"Open In Colab\"/></a>"
      ]
    },
    {
      "cell_type": "code",
      "execution_count": 3,
      "metadata": {
        "id": "0uzV5E9EyxXS",
        "colab": {
          "base_uri": "https://localhost:8080/",
          "height": 109
        },
        "outputId": "fe559430-295d-431d-b8da-f09ab1e9b9bd"
      },
      "outputs": [
        {
          "output_type": "error",
          "ename": "SyntaxError",
          "evalue": "expected ':' (ipython-input-544997679.py, line 7)",
          "traceback": [
            "\u001b[0;36m  File \u001b[0;32m\"/tmp/ipython-input-544997679.py\"\u001b[0;36m, line \u001b[0;32m7\u001b[0m\n\u001b[0;31m    for group, scores in data.items() # :が抜けている\u001b[0m\n\u001b[0m                                      ^\u001b[0m\n\u001b[0;31mSyntaxError\u001b[0m\u001b[0;31m:\u001b[0m expected ':'\n"
          ]
        }
      ],
      "source": [
        "# 問題：get_total_scores_by_group(data)\n",
        "# 与えられた辞書 data において、各グループの合計スコアを計算して辞書で返す関数を作ってください。\n",
        "\n",
        "# 誤りあり\n",
        "def get_total_scores_by_group(data):\n",
        "  result = {}\n",
        "  for group, scores in data.items() # :が抜けている\n",
        "    result[group] = sum(scores)\n",
        "  return result"
      ]
    },
    {
      "cell_type": "code",
      "source": [
        "# 修正版\n",
        "def get_total_scores_by_group(data):\n",
        "    result = {}\n",
        "    for group, scores in data.items():\n",
        "        result[group] = sum(scores)\n",
        "    return result"
      ],
      "metadata": {
        "id": "JhHfffOG_Uyh"
      },
      "execution_count": null,
      "outputs": []
    },
    {
      "cell_type": "code",
      "source": [
        "# 問題：get_average_scores_by_group(data)\n",
        "# 与えられた辞書 data において、各グループの平均スコアを計算して辞書で返す関数を作ってください。\n",
        "# 平均は小数第2位まで四捨五入してください。\n",
        "\n",
        "# 誤りあり\n",
        "def get_average_scores_by_group(data):\n",
        "  result = {}\n",
        "  for group, scores in data.items(): # 空リストのグループ処理が抜けている\n",
        "    result[group] = round(sum(scores) / len(scores), 2)\n",
        "  return result"
      ],
      "metadata": {
        "id": "26W_tyx7pzrl"
      },
      "execution_count": 2,
      "outputs": []
    },
    {
      "cell_type": "code",
      "source": [
        "# 修正版\n",
        "def get_average_scores_by_group(data):\n",
        "    result = {}\n",
        "    for group, scores in data.items():\n",
        "        if scores:  # 空でない場合のみ計算\n",
        "            result[group] = round(sum(scores) / len(scores), 2)\n",
        "        else:\n",
        "            result[group] = None  # または0など\n",
        "    return result"
      ],
      "metadata": {
        "id": "X2HbtEzprhML"
      },
      "execution_count": null,
      "outputs": []
    },
    {
      "cell_type": "code",
      "source": [
        "# 問題：get_median_scores_by_group(data)\n",
        "# 与えられた辞書 data において、各グループの中央値を計算して辞書で返す関数を作ってください。\n",
        "# 中央値は小数第2位まで四捨五入してください。\n",
        "\n",
        "# 誤りあり\n",
        "def get_median_scores_by_group(data):\n",
        "  result = {}\n",
        "  for group, scores in data.items():\n",
        "  if scores:  # インデントがずれている\n",
        "    new_scores = sorted(scores)\n",
        "    # 比較は = ではなく ==\n",
        "    # len()の引数がnew_scoresになっていない\n",
        "    if len(scores) % 2 = 0:\n",
        "      # 2で割るのは足し算した後\n",
        "      # 添え字の除算は / ではなく //\n",
        "      median = new_scores[len(scores) / 2] + new_scores[len(scores) - 1] / 2\n",
        "    else:\n",
        "      median = new_scores[len(scores) // 2]\n",
        "    result[group] = round(median, 2)\n",
        "  else:\n",
        "    result[group] = None\n",
        "  return result"
      ],
      "metadata": {
        "colab": {
          "base_uri": "https://localhost:8080/",
          "height": 109
        },
        "id": "wWAtihgAEmAw",
        "outputId": "243c9e46-5eb0-409c-ff17-aca7afe119aa"
      },
      "execution_count": 2,
      "outputs": [
        {
          "output_type": "error",
          "ename": "IndentationError",
          "evalue": "expected an indented block after 'for' statement on line 6 (ipython-input-1597801097.py, line 7)",
          "traceback": [
            "\u001b[0;36m  File \u001b[0;32m\"/tmp/ipython-input-1597801097.py\"\u001b[0;36m, line \u001b[0;32m7\u001b[0m\n\u001b[0;31m    if scores:  # インデントがずれている\u001b[0m\n\u001b[0m    ^\u001b[0m\n\u001b[0;31mIndentationError\u001b[0m\u001b[0;31m:\u001b[0m expected an indented block after 'for' statement on line 6\n"
          ]
        }
      ]
    },
    {
      "cell_type": "code",
      "source": [
        "# 修正版\n",
        "def get_median_scores_by_group_fixed(data):\n",
        "    result = {}\n",
        "    for group, scores in data.items():\n",
        "        if scores:\n",
        "            ys = sorted(scores)\n",
        "            n = len(ys)\n",
        "            m = n // 2\n",
        "            if n % 2 == 0:\n",
        "                median = (ys[m - 1] + ys[m]) / 2\n",
        "            else:\n",
        "                median = ys[m]\n",
        "            result[group] = round(float(median), 2)\n",
        "        else:\n",
        "            result[group] = None  # 空は欠損扱い（方針に合わせて0.0でも可）\n",
        "    return result"
      ],
      "metadata": {
        "id": "HV902g3xN_Wr"
      },
      "execution_count": null,
      "outputs": []
    },
    {
      "cell_type": "code",
      "source": [
        "# 問題：get_mode_scores_by_group(data)\n",
        "# 与えられた辞書 data において、各グループの最頻値（最も出現回数が多い値）を計算して辞書で返す関数を作ってください。\n",
        "# 条件：\n",
        "# - 最頻値が複数ある場合は、最小値を返すこと\n",
        "# - リストが空の場合は None を返すこと\n",
        "# - 整数・小数どちらも処理できること\n",
        "\n",
        "# ヒント参照\n",
        "def get_mode_scores_by_group(data):\n",
        "  result = {}\n",
        "  for group, scores in data.items():\n",
        "    if not scores:\n",
        "      result[group] = None\n",
        "    else: # continueでも可\n",
        "      counts = {}\n",
        "      for s in scores:\n",
        "        counts[s] = counts.get(s, 0) + 1\n",
        "      max_count = max(counts.values())\n",
        "      candidates = [k for k, v in counts.items() if v == max_count]\n",
        "      result[group] = min(candidates)\n",
        "  return result"
      ],
      "metadata": {
        "id": "r-dhBpWITrsq"
      },
      "execution_count": 3,
      "outputs": []
    },
    {
      "cell_type": "code",
      "source": [],
      "metadata": {
        "id": "L6GBHbc9TwTm"
      },
      "execution_count": null,
      "outputs": []
    }
  ]
}