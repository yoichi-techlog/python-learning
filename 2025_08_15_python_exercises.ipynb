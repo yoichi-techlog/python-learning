{
  "nbformat": 4,
  "nbformat_minor": 0,
  "metadata": {
    "colab": {
      "provenance": [],
      "authorship_tag": "ABX9TyMC+71JPMmhabaa6DvTYvUr",
      "include_colab_link": true
    },
    "kernelspec": {
      "name": "python3",
      "display_name": "Python 3"
    },
    "language_info": {
      "name": "python"
    }
  },
  "cells": [
    {
      "cell_type": "markdown",
      "metadata": {
        "id": "view-in-github",
        "colab_type": "text"
      },
      "source": [
        "<a href=\"https://colab.research.google.com/github/yoichi-techlog/python-learning/blob/main/2025_08_15_python_exercises.ipynb\" target=\"_parent\"><img src=\"https://colab.research.google.com/assets/colab-badge.svg\" alt=\"Open In Colab\"/></a>"
      ]
    },
    {
      "cell_type": "code",
      "execution_count": null,
      "metadata": {
        "id": "w_DWUMSj3ZFQ"
      },
      "outputs": [],
      "source": [
        "# 解答誤りあり\n",
        "\n",
        "# 問題：get_stddev_by_group(data)\n",
        "# 与えられた辞書 data において、各グループの標準偏差（不偏標準偏差）を計算して辞書で返す関数を作ってください。\n",
        "# 条件：\n",
        "# - リストが空または要素数が1の場合は None を返すこと\n",
        "# - 整数・小数混在も可\n",
        "# - 小数第2位まで四捨五入\n",
        "# - 標準偏差 = √(不偏分散) = √(Σ (x - 平均)^2 / (n - 1))\n",
        "\n",
        "# 実行例\n",
        "data = {\n",
        "    \"A\": [80, 75, 90, 85, 70],\n",
        "    \"B\": [60, 65, 70, 75],\n",
        "    \"C\": [100, 95, 90, 85, 80, 75],\n",
        "    \"D\": [],         # 要素なし\n",
        "    \"E\": [88.5, 88.7, 88.1],\n",
        "    \"F\": [42]        # 要素1つ\n",
        "}\n",
        "# 期待される出力例（参考値）:\n",
        "# {'A': 7.91, 'B': 6.45, 'C': 7.36, 'D': None, 'E': 0.26, 'F': None}\n",
        "\n",
        "# 誤りコード\n",
        "import math\n",
        "def get_stddev_by_group(data):\n",
        "    result = {}\n",
        "    for group, scores in data.items():\n",
        "        if len(scores) <= 1:\n",
        "            result[group] = None\n",
        "        else:\n",
        "            n = len(scores)\n",
        "            mean = sum(scores) / n\n",
        "            sum_squared_diff = 0\n",
        "            for s in scores:\n",
        "                # 偏差平方和は (s - mean) ** 2 を足し合わせる\n",
        "                sum_squared_diff += s\n",
        "            # 小数第2位まで四捨五入する\n",
        "            stddev = math.sqrt(sum_squared_diff / (n - 1))\n",
        "            result[group] = stddev\n",
        "    return result"
      ]
    },
    {
      "cell_type": "code",
      "source": [
        "# 修正版\n",
        "import math\n",
        "\n",
        "def get_stddev_by_group(data):\n",
        "    result = {}\n",
        "    for group, scores in data.items():\n",
        "        n = len(scores)\n",
        "        if n <= 1:\n",
        "            result[group] = None\n",
        "        else:\n",
        "            mean = sum(scores) / n\n",
        "            sum_squared_diff = 0.0\n",
        "            for s in scores:\n",
        "                sum_squared_diff += (s - mean) ** 2  # ← ここを修正\n",
        "            stddev = math.sqrt(sum_squared_diff / (n - 1))\n",
        "            result[group] = round(stddev, 2)         # ← 丸め\n",
        "    return result"
      ],
      "metadata": {
        "id": "s04CDsBa9Fv0"
      },
      "execution_count": null,
      "outputs": []
    },
    {
      "cell_type": "code",
      "source": [
        "# さらに短く書くなら（参考）\n",
        "import math\n",
        "\n",
        "def get_stddev_by_group(data):\n",
        "    result = {}\n",
        "    for group, scores in data.items():\n",
        "        n = len(scores)\n",
        "        if n <= 1:\n",
        "            result[group] = None\n",
        "            continue\n",
        "        mean = sum(scores) / n\n",
        "        ss = sum((s - mean) ** 2 for s in scores)  # 偏差平方和をジェネレータ式で計算\n",
        "        result[group] = round(math.sqrt(ss / (n - 1)), 2)\n",
        "    return result"
      ],
      "metadata": {
        "id": "LDRbkBopDLXa"
      },
      "execution_count": null,
      "outputs": []
    },
    {
      "cell_type": "code",
      "source": [
        "# 問題：get_max_by_group(data)\n",
        "# 与えられた辞書 data において、各グループの最大値を計算して辞書で返す関数を作ってください。\n",
        "# 条件：\n",
        "# - リストが空の場合は None を返すこと\n",
        "# - 整数・小数混在も可\n",
        "\n",
        "# 実行例\n",
        "data = {\n",
        "    \"A\": [80, 75, 90, 85, 70],\n",
        "    \"B\": [60, 65, 70, 75],\n",
        "    \"C\": [100, 95, 90, 85, 80, 75],\n",
        "    \"D\": [],         # 要素なし\n",
        "    \"E\": [88.5, 88.7, 88.1]\n",
        "}\n",
        "# 期待される出力例（参考値）:\n",
        "# {'A': 90, 'B': 75, 'C': 100, 'D': None, 'E': 88.7}\n",
        "\n",
        "# 解答\n",
        "def get_max_by_group(data):\n",
        "    result = {}\n",
        "    for group, scores in data.items():\n",
        "        if not scores:\n",
        "            result[group] = None\n",
        "        else:\n",
        "            result[group] = max(scores)\n",
        "    return result"
      ],
      "metadata": {
        "id": "DWEPqlf8ewmd"
      },
      "execution_count": null,
      "outputs": []
    },
    {
      "cell_type": "code",
      "source": [
        "# 問題：get_min_by_group(data)\n",
        "# 与えられた辞書 data において、各グループの最小値を計算して辞書で返す関数を作ってください。\n",
        "# 条件：\n",
        "# - リストが空の場合は None を返すこと\n",
        "# - 整数・小数混在も可\n",
        "\n",
        "# 実行例\n",
        "data = {\n",
        "    \"A\": [80, 75, 90, 85, 70],\n",
        "    \"B\": [60, 65, 70, 75],\n",
        "    \"C\": [100, 95, 90, 85, 80, 75],\n",
        "    \"D\": [],         # 要素なし\n",
        "    \"E\": [88.5, 88.7, 88.1]\n",
        "}\n",
        "# 期待される出力例（参考値）:\n",
        "# {'A': 70, 'B': 60, 'C': 75, 'D': None, 'E': 88.1}\n",
        "\n",
        "# 解答\n",
        "def get_min_by_group(data):\n",
        "    result = {}\n",
        "    for group, scores in data.items():\n",
        "        if not scores:\n",
        "            result[group] = None\n",
        "        else:\n",
        "            result[group] = min(scores)\n",
        "    return result"
      ],
      "metadata": {
        "id": "1a6ghdGKfxmJ"
      },
      "execution_count": null,
      "outputs": []
    },
    {
      "cell_type": "code",
      "source": [
        "# 解答誤りあり\n",
        "\n",
        "# 問題：count_above_threshold(data, threshold)\n",
        "# 与えられた辞書 data において、各グループの中で\n",
        "# threshold より大きい値の個数を計算して辞書で返す関数を作ってください。\n",
        "# 条件：\n",
        "# - リストが空の場合は None を返すこと\n",
        "# - 整数・小数混在も可\n",
        "\n",
        "# 実行例\n",
        "data = {\n",
        "    \"A\": [80, 75, 90, 85, 70],\n",
        "    \"B\": [60, 65, 70, 75],\n",
        "    \"C\": [100, 95, 90, 85, 80, 75],\n",
        "    \"D\": [],         # 要素なし\n",
        "    \"E\": [88.5, 88.7, 88.1]\n",
        "}\n",
        "threshold = 85\n",
        "# 期待される出力例（参考値）:\n",
        "# {'A': 2, 'B': 0, 'C': 3, 'D': None, 'E': 2}\n",
        "\n",
        "# 誤りコード\n",
        "def count_above_threshold(data, threshold):\n",
        "    result = {}\n",
        "    for group, scores in data.items():\n",
        "        if not scores:\n",
        "            result[group] = None\n",
        "        else:\n",
        "            # 「以上」ではなく「より大きい」条件にする\n",
        "            result[group] = sum(1 for s in scores if s >= threshold)\n",
        "    return result"
      ],
      "metadata": {
        "id": "vbIfuP4sgPLT"
      },
      "execution_count": null,
      "outputs": []
    },
    {
      "cell_type": "code",
      "source": [
        "# 修正版\n",
        "def count_above_threshold(data, threshold):\n",
        "    result = {}\n",
        "    for group, scores in data.items():\n",
        "        if not scores:\n",
        "            result[group] = None\n",
        "        else:\n",
        "            result[group] = sum(1 for s in scores if s > threshold)\n",
        "    return result"
      ],
      "metadata": {
        "id": "fvCJSQaUiHWv"
      },
      "execution_count": null,
      "outputs": []
    },
    {
      "cell_type": "code",
      "source": [
        "# 問題：count_below_threshold(data, threshold)\n",
        "# 与えられた辞書 data において、各グループの中で\n",
        "# threshold より小さい値の個数を計算して辞書で返す関数を作ってください。\n",
        "# 条件：\n",
        "# - リストが空の場合は None を返すこと\n",
        "# - 整数・小数混在も可\n",
        "\n",
        "# 実行例\n",
        "data = {\n",
        "    \"A\": [80, 75, 90, 85, 70],\n",
        "    \"B\": [60, 65, 70, 75],\n",
        "    \"C\": [100, 95, 90, 85, 80, 75],\n",
        "    \"D\": [],         # 要素なし\n",
        "    \"E\": [88.5, 88.7, 88.1]\n",
        "}\n",
        "threshold = 85\n",
        "# 期待される出力例（参考値）:\n",
        "# {'A': 3, 'B': 4, 'C': 3, 'D': None, 'E': 3}\n",
        "\n",
        "# 解答\n",
        "def count_below_threshold(data, threshold):\n",
        "    result = {}\n",
        "    for group, scores in data.items():\n",
        "        if not scores:\n",
        "            result[group] = None\n",
        "        else:\n",
        "            result[group] = sum(1 for s in scores if s < threshold)\n",
        "    return result"
      ],
      "metadata": {
        "id": "SFQZLJc3jyrM"
      },
      "execution_count": null,
      "outputs": []
    },
    {
      "cell_type": "code",
      "source": [
        "# 問題：count_equal_to_threshold(data, threshold)\n",
        "# 与えられた辞書 data において、各グループの中で\n",
        "# threshold と等しい値の個数を計算して辞書で返す関数を作ってください。\n",
        "# 条件：\n",
        "# - リストが空の場合は None を返すこと\n",
        "# - 整数・小数混在も可\n",
        "# - threshold は整数または小数\n",
        "\n",
        "# 実行例\n",
        "data = {\n",
        "    \"A\": [80, 75, 90, 85, 70],\n",
        "    \"B\": [60, 65, 70, 75],\n",
        "    \"C\": [100, 95, 90, 85, 80, 75],\n",
        "    \"D\": [],         # 要素なし\n",
        "    \"E\": [88.5, 88.7, 88.1, 85]\n",
        "}\n",
        "threshold = 85\n",
        "# 期待される出力例（参考値）:\n",
        "# {'A': 1, 'B': 0, 'C': 1, 'D': None, 'E': 1}\n",
        "\n",
        "# 解答\n",
        "def count_equal_to_threshold(data, threshold):\n",
        "    result = {}\n",
        "    for group, scores in data.items():\n",
        "        if not scores:\n",
        "            result[group] = None\n",
        "        else:\n",
        "            result[group] = sum(1 for s in scores if s == threshold)\n",
        "    return result"
      ],
      "metadata": {
        "id": "602AbeoTpk9E"
      },
      "execution_count": null,
      "outputs": []
    }
  ]
}